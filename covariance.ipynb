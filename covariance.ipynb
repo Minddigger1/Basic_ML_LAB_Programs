{
 "cells": [
  {
   "cell_type": "code",
   "execution_count": 4,
   "id": "bb9c8e0c",
   "metadata": {},
   "outputs": [],
   "source": [
    "from sklearn.datasets import load_iris\n",
    "import pandas as pd\n",
    "import numpy as np\n"
   ]
  },
  {
   "cell_type": "code",
   "execution_count": 16,
   "id": "97502127",
   "metadata": {},
   "outputs": [
    {
     "name": "stdout",
     "output_type": "stream",
     "text": [
      "-0.0424\n"
     ]
    }
   ],
   "source": [
    "iris = load_iris()\n",
    "df= pd.DataFrame(data = iris.data,columns=iris.feature_names)\n",
    "df.head()\n",
    "\n",
    "\n",
    "seplen = df.loc[:,\"sepal length (cm)\"]\n",
    "sepwid = df.loc[:,\"sepal width (cm)\"]\n",
    "\n",
    "cov = round(np.cov(seplen,sepwid)[0][1],4)\n",
    "print(cov)"
   ]
  }
 ],
 "metadata": {
  "kernelspec": {
   "display_name": "Python 3 (ipykernel)",
   "language": "python",
   "name": "python3"
  },
  "language_info": {
   "codemirror_mode": {
    "name": "ipython",
    "version": 3
   },
   "file_extension": ".py",
   "mimetype": "text/x-python",
   "name": "python",
   "nbconvert_exporter": "python",
   "pygments_lexer": "ipython3",
   "version": "3.9.12"
  }
 },
 "nbformat": 4,
 "nbformat_minor": 5
}
